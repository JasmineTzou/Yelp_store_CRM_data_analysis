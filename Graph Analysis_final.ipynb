{
 "cells": [
  {
   "cell_type": "markdown",
   "id": "3d92d69c-4d33-4590-8644-e0ea5600a804",
   "metadata": {},
   "source": [
    "## Final Project - Yelp Data Analysis\n",
    "### Big Data Machine Learning - PySpark\n",
    "\n",
    "Members:\n",
    "\n",
    "**1. Rolamjaya Hotmartua**\n",
    "\n",
    "**2. YiChin Tzou**\n",
    "\n",
    "**3. Zoey Chen**"
   ]
  },
  {
   "cell_type": "code",
   "execution_count": 1,
   "id": "22e40097-63e4-4d75-88e6-8d63f2b7d46e",
   "metadata": {},
   "outputs": [],
   "source": [
    "from pyspark.sql import SparkSession\n",
    "from pyspark.sql import functions as F\n",
    "\n",
    "import warnings\n",
    "warnings.filterwarnings(\"ignore\")"
   ]
  },
  {
   "cell_type": "code",
   "execution_count": 2,
   "id": "f7016721-ebb1-4f39-a679-0a197471b247",
   "metadata": {},
   "outputs": [],
   "source": [
    "from pyspark.context import SparkContext\n",
    "from graphframes import *"
   ]
  },
  {
   "cell_type": "code",
   "execution_count": 3,
   "id": "67e98538-defa-46b9-adca-95e29698bb90",
   "metadata": {},
   "outputs": [
    {
     "data": {
      "text/plain": [
       "[('spark.driver.extraJavaOptions',\n",
       "  '-XX:+IgnoreUnrecognizedVMOptions --add-opens=java.base/java.lang=ALL-UNNAMED --add-opens=java.base/java.lang.invoke=ALL-UNNAMED --add-opens=java.base/java.lang.reflect=ALL-UNNAMED --add-opens=java.base/java.io=ALL-UNNAMED --add-opens=java.base/java.net=ALL-UNNAMED --add-opens=java.base/java.nio=ALL-UNNAMED --add-opens=java.base/java.util=ALL-UNNAMED --add-opens=java.base/java.util.concurrent=ALL-UNNAMED --add-opens=java.base/java.util.concurrent.atomic=ALL-UNNAMED --add-opens=java.base/sun.nio.ch=ALL-UNNAMED --add-opens=java.base/sun.nio.cs=ALL-UNNAMED --add-opens=java.base/sun.security.action=ALL-UNNAMED --add-opens=java.base/sun.util.calendar=ALL-UNNAMED --add-opens=java.security.jgss/sun.security.krb5=ALL-UNNAMED'),\n",
       " ('spark.submit.pyFiles',\n",
       "  '/home/jovyan/.ivy2/jars/graphframes_graphframes-0.8.1-spark2.4-s_2.11.jar,/home/jovyan/.ivy2/jars/org.slf4j_slf4j-api-1.7.16.jar'),\n",
       " ('spark.executor.id', 'driver'),\n",
       " ('spark.executor.memory', '5g'),\n",
       " ('spark.cores.max', '4'),\n",
       " ('spark.executor.cores', '4'),\n",
       " ('spark.app.initial.file.urls',\n",
       "  'file:///home/jovyan/.ivy2/jars/graphframes_graphframes-0.8.1-spark2.4-s_2.11.jar,file:///home/jovyan/.ivy2/jars/org.slf4j_slf4j-api-1.7.16.jar'),\n",
       " ('spark.jars.packages', 'graphframes:graphframes:0.8.1-spark2.4-s_2.11'),\n",
       " ('spark.app.id', 'local-1678081771090'),\n",
       " ('spark.app.initial.jar.urls',\n",
       "  'spark://8e6e607910e0:42701/jars/graphframes_graphframes-0.8.1-spark2.4-s_2.11.jar,spark://8e6e607910e0:42701/jars/org.slf4j_slf4j-api-1.7.16.jar'),\n",
       " ('spark.app.name', 'Spark Updated Conf'),\n",
       " ('spark.app.submitTime', '1678081770300'),\n",
       " ('spark.rdd.compress', 'True'),\n",
       " ('spark.driver.host', '8e6e607910e0'),\n",
       " ('spark.executor.extraJavaOptions',\n",
       "  '-XX:+IgnoreUnrecognizedVMOptions --add-opens=java.base/java.lang=ALL-UNNAMED --add-opens=java.base/java.lang.invoke=ALL-UNNAMED --add-opens=java.base/java.lang.reflect=ALL-UNNAMED --add-opens=java.base/java.io=ALL-UNNAMED --add-opens=java.base/java.net=ALL-UNNAMED --add-opens=java.base/java.nio=ALL-UNNAMED --add-opens=java.base/java.util=ALL-UNNAMED --add-opens=java.base/java.util.concurrent=ALL-UNNAMED --add-opens=java.base/java.util.concurrent.atomic=ALL-UNNAMED --add-opens=java.base/sun.nio.ch=ALL-UNNAMED --add-opens=java.base/sun.nio.cs=ALL-UNNAMED --add-opens=java.base/sun.security.action=ALL-UNNAMED --add-opens=java.base/sun.util.calendar=ALL-UNNAMED --add-opens=java.security.jgss/sun.security.krb5=ALL-UNNAMED'),\n",
       " ('spark.driver.memory', '8g'),\n",
       " ('spark.jars',\n",
       "  'file:///home/jovyan/.ivy2/jars/graphframes_graphframes-0.8.1-spark2.4-s_2.11.jar,file:///home/jovyan/.ivy2/jars/org.slf4j_slf4j-api-1.7.16.jar'),\n",
       " ('spark.serializer.objectStreamReset', '100'),\n",
       " ('spark.master', 'local[*]'),\n",
       " ('spark.driver.port', '42701'),\n",
       " ('spark.repl.local.jars',\n",
       "  'file:///home/jovyan/.ivy2/jars/graphframes_graphframes-0.8.1-spark2.4-s_2.11.jar,file:///home/jovyan/.ivy2/jars/org.slf4j_slf4j-api-1.7.16.jar'),\n",
       " ('spark.submit.deployMode', 'client'),\n",
       " ('spark.app.startTime', '1678081770454'),\n",
       " ('spark.files',\n",
       "  'file:///home/jovyan/.ivy2/jars/graphframes_graphframes-0.8.1-spark2.4-s_2.11.jar,file:///home/jovyan/.ivy2/jars/org.slf4j_slf4j-api-1.7.16.jar'),\n",
       " ('spark.ui.showConsoleProgress', 'true')]"
      ]
     },
     "execution_count": 3,
     "metadata": {},
     "output_type": "execute_result"
    }
   ],
   "source": [
    "#create Spark session\n",
    "spark = SparkSession.builder.appName('YelpBigDataML').config(\"spark.jars.packages\", \"graphframes:graphframes:0.8.1-spark2.4-s_2.11\").getOrCreate()\n",
    "\n",
    "#change configuration settings on Spark \n",
    "conf = spark.sparkContext._conf.setAll([('spark.executor.memory', '5g'), ('spark.app.name', 'Spark Updated Conf'), ('spark.executor.cores', '4'), ('spark.cores.max', '4'), ('spark.driver.memory','8g')])\n",
    "\n",
    "#print spark configuration settings\n",
    "spark.sparkContext.getConf().getAll()"
   ]
  },
  {
   "cell_type": "markdown",
   "id": "22a838d7-69a0-4f0f-9788-a7487463dac1",
   "metadata": {},
   "source": [
    "### 1) Data Exploration"
   ]
  },
  {
   "cell_type": "markdown",
   "id": "e5c87c77-5f03-49f5-a897-2c5db06e03f0",
   "metadata": {},
   "source": [
    "#### a. Read the TOP 2000 users json files"
   ]
  },
  {
   "cell_type": "code",
   "execution_count": 43,
   "id": "9c8a70cf-817c-40ad-b2f5-bdedcc5dcda7",
   "metadata": {},
   "outputs": [],
   "source": [
    "df_user_2000 = spark.read\\\n",
    "    .json(\"df_users_2000-part-00000-26a96dae-e5e4-44b5-a005-1aa3bae7d700-c000.json\" )"
   ]
  },
  {
   "cell_type": "code",
   "execution_count": 44,
   "id": "9cb229f8-f5d5-4be5-a7b5-83bb3a8e5f67",
   "metadata": {},
   "outputs": [],
   "source": [
    "df_user_2000_1 = spark.read\\\n",
    "    .json(\"df_users_2000-part-00001-26a96dae-e5e4-44b5-a005-1aa3bae7d700-c000.json\" )"
   ]
  },
  {
   "cell_type": "code",
   "execution_count": 45,
   "id": "3fa16b09-a561-46a6-9245-506e82e90fb6",
   "metadata": {},
   "outputs": [],
   "source": [
    "df_user_2000_2 = spark.read\\\n",
    "    .json(\"df_users_2000-part-00002-26a96dae-e5e4-44b5-a005-1aa3bae7d700-c000.json\" )"
   ]
  },
  {
   "cell_type": "code",
   "execution_count": 46,
   "id": "662b5872-4cfd-44d7-90b8-2a65d0772b51",
   "metadata": {},
   "outputs": [],
   "source": [
    "df_user_2000_3 = spark.read\\\n",
    "    .json(\"df_users_2000-part-00003-26a96dae-e5e4-44b5-a005-1aa3bae7d700-c000.json\" )"
   ]
  },
  {
   "cell_type": "code",
   "execution_count": 47,
   "id": "6ed2a587-7195-4ea4-9a7b-e3c68d35622d",
   "metadata": {},
   "outputs": [],
   "source": [
    "df_user_2000_4 = spark.read\\\n",
    "    .json(\"df_users_2000-part-00004-26a96dae-e5e4-44b5-a005-1aa3bae7d700-c000.json\" )"
   ]
  },
  {
   "cell_type": "code",
   "execution_count": 48,
   "id": "87f3d4c4-b2e6-48bd-b8d7-9294710f4188",
   "metadata": {},
   "outputs": [],
   "source": [
    "df_user_2000_5 = spark.read\\\n",
    "    .json(\"df_users_2000-part-00005-26a96dae-e5e4-44b5-a005-1aa3bae7d700-c000.json\" )"
   ]
  },
  {
   "cell_type": "code",
   "execution_count": 49,
   "id": "44803d2c-a130-4be8-9b00-f17314433d8a",
   "metadata": {},
   "outputs": [],
   "source": [
    "df_user_2000 = df_user_2000.union(df_user_2000_1).union(df_user_2000_2).union(df_user_2000_3).union(df_user_2000_4).union(df_user_2000_5)"
   ]
  },
  {
   "cell_type": "code",
   "execution_count": 50,
   "id": "c6f86b5a-2c77-4627-b735-5d60d700423a",
   "metadata": {},
   "outputs": [
    {
     "data": {
      "text/plain": [
       "2000"
      ]
     },
     "execution_count": 50,
     "metadata": {},
     "output_type": "execute_result"
    }
   ],
   "source": [
    "df_user_2000.count()"
   ]
  },
  {
   "cell_type": "code",
   "execution_count": 51,
   "id": "e4bd5c50-8fe1-4ec0-b68c-562942f5ebb8",
   "metadata": {},
   "outputs": [
    {
     "name": "stdout",
     "output_type": "stream",
     "text": [
      "root\n",
      " |-- average_stars: double (nullable = true)\n",
      " |-- compliment_cool: long (nullable = true)\n",
      " |-- compliment_cute: long (nullable = true)\n",
      " |-- compliment_funny: long (nullable = true)\n",
      " |-- compliment_hot: long (nullable = true)\n",
      " |-- compliment_list: long (nullable = true)\n",
      " |-- compliment_more: long (nullable = true)\n",
      " |-- compliment_note: long (nullable = true)\n",
      " |-- compliment_photos: long (nullable = true)\n",
      " |-- compliment_plain: long (nullable = true)\n",
      " |-- compliment_profile: long (nullable = true)\n",
      " |-- compliment_writer: long (nullable = true)\n",
      " |-- cool: long (nullable = true)\n",
      " |-- count: long (nullable = true)\n",
      " |-- elite: string (nullable = true)\n",
      " |-- fans: long (nullable = true)\n",
      " |-- friends: string (nullable = true)\n",
      " |-- funny: long (nullable = true)\n",
      " |-- name: string (nullable = true)\n",
      " |-- review_count: long (nullable = true)\n",
      " |-- useful: long (nullable = true)\n",
      " |-- user_id: string (nullable = true)\n",
      " |-- yelping_since: string (nullable = true)\n",
      "\n"
     ]
    }
   ],
   "source": [
    "df_user_2000.printSchema()"
   ]
  },
  {
   "cell_type": "code",
   "execution_count": 52,
   "id": "643e1d66-63cf-4574-a086-2cd3dcfffc7e",
   "metadata": {},
   "outputs": [
    {
     "name": "stdout",
     "output_type": "stream",
     "text": [
      "+-------------+---------------+---------------+----------------+--------------+---------------+---------------+---------------+-----------------+----------------+------------------+-----------------+-----+-----+--------------------+----+--------------------+-----+-------+------------+------+--------------------+-------------------+\n",
      "|average_stars|compliment_cool|compliment_cute|compliment_funny|compliment_hot|compliment_list|compliment_more|compliment_note|compliment_photos|compliment_plain|compliment_profile|compliment_writer| cool|count|               elite|fans|             friends|funny|   name|review_count|useful|             user_id|      yelping_since|\n",
      "+-------------+---------------+---------------+----------------+--------------+---------------+---------------+---------------+-----------------+----------------+------------------+-----------------+-----+-----+--------------------+----+--------------------+-----+-------+------------+------+--------------------+-------------------+\n",
      "|         2.95|             20|              7|              20|            32|              1|              4|             35|                6|              17|                 2|               20|  348|  300|      2009,2010,2011|  35|hdwDo7CLh9aN_9Pck...|  450|  Robyn|         518|  1325|IpLRJY4CP3fXtlEd8...|2009-04-11 14:35:46|\n",
      "|         4.17|           1731|            138|            1731|          1262|             65|            102|            898|              177|            2584|               108|              551|11149|  203|2009,2010,2011,20...| 804|sHozd2pcOKwHtPr8V...|10005| Monica|        1282| 12640|RgDVC3ZUBqpEe6Y1k...|2009-02-23 14:08:31|\n",
      "|          4.1|           2442|            152|            2442|          1729|             76|            129|           2073|              462|            6409|               105|             1117|20385|  353|2009,2010,2011,20...| 944|K8h4ypoVZAnmhC2dH...|14049|    Joi|        2009| 27137|0G-QF457q_0Z_jKqh...|2008-03-12 19:13:45|\n",
      "|         3.67|              6|              0|               6|            15|              0|              5|              3|                2|               6|                 2|               12|   77|  117|      2012,2013,2014|  11|p-lbHRoUAPC0OWmOX...|   51|Melissa|         159|   256|8zkkuk8KOoNojZhTx...|2010-02-05 22:30:21|\n",
      "|         3.79|             88|              1|              88|            41|              2|              6|             32|                3|              69|                 1|               69|  502|  197|2009,2010,2011,20...|  36|Txw2jX2lOtayJOiMv...|  307|Matthew|         593|  1216|Q5jOFJYhIsN8ouJ1r...|2006-06-21 20:03:01|\n",
      "|         3.57|             89|             10|              89|            62|              1|             15|             65|                6|              87|                20|               92| 2850|  956|2010,2011,2012,20...| 134|tlEHfYMPIm8-AMMk3...| 1110|  Danan|        2108|  4527|ouODopBKF3AqfCkuQ...|2010-04-09 05:28:01|\n",
      "|          3.5|            121|              2|             121|            52|             10|             11|             60|                9|             181|                 6|               46|  639|  119|2010,2011,2012,20...|  41|96IKLbNHdK-sOAjuM...|  723|   Todd|         376|  1373|8Akq8sh1LSmJbqa6J...|2009-01-15 16:40:06|\n",
      "|         4.03|             43|              3|              43|            43|              3|              7|              8|                1|              35|                 6|               19|  178|  139|2010,2011,2012,20...|  18|TlyQgUgNdlPy8fzNf...|  120|  Jamie|         193|   411|gYDFiPYFCeY52vvMv...|2009-08-27 19:07:33|\n",
      "|         4.18|            108|              4|             108|            63|              3|              9|             61|               34|             129|                 7|               37| 2129|  161|           2012,2013|  66|dr_mce0J8Q-BLLOA2...| 1349| Amanda|         839|  2611|7Na1pUcEv3oF_QTRw...|2011-10-23 23:52:25|\n",
      "|         3.65|            101|              1|             101|            15|              2|              6|             50|               19|             157|                 7|               38|  583|  185|2011,2013,2014,20...|  35|GevrFd8ojonAr4fEQ...|  210|    Ken|         341|  1385|UJEjJgi1xpmLR4b3J...|2010-03-13 15:10:08|\n",
      "+-------------+---------------+---------------+----------------+--------------+---------------+---------------+---------------+-----------------+----------------+------------------+-----------------+-----+-----+--------------------+----+--------------------+-----+-------+------------+------+--------------------+-------------------+\n",
      "only showing top 10 rows\n",
      "\n"
     ]
    }
   ],
   "source": [
    "df_user_2000.show(10)"
   ]
  },
  {
   "cell_type": "markdown",
   "id": "c019ed40-058d-42de-9b5e-2570b0e282f6",
   "metadata": {},
   "source": [
    "### Create Graph"
   ]
  },
  {
   "cell_type": "code",
   "execution_count": 53,
   "id": "b967d5ef-7204-4795-b9ad-b56f766b4cda",
   "metadata": {},
   "outputs": [],
   "source": [
    "from pyspark.sql.functions import split, explode, col,trim,lit,size\n",
    "#Create dataframes for vertices and edges \n",
    "cols_to_drop = [\"friends\"]\n",
    "df_user_2000 = df_user_2000.withColumn(\"profile_response\", col(\"compliment_cool\")+col(\"compliment_cute\")+col(\"compliment_funny\")+\\\n",
    "                                                    col(\"compliment_hot\")+col(\"compliment_list\")+col(\"compliment_more\")+\\\n",
    "                                                    col(\"compliment_note\")+col(\"compliment_photos\")+col(\"compliment_plain\")+\\\n",
    "                                                    col(\"compliment_profile\")+col(\"compliment_writer\"))\\\n",
    "                            .drop(\"compliment_cool\",\"compliment_cute\",\"compliment_funny\",\\\n",
    "                                    \"compliment_hot\",\"compliment_list\",\"compliment_more\",\\\n",
    "                                    \"compliment_note\",\"compliment_photos\",\"compliment_plain\",\\\n",
    "                                    \"compliment_profile\",\"compliment_writer\")\n",
    "df_user_2000 = df_user_2000.withColumn(\"response\", col(\"cool\") + col(\"funny\") + col(\"useful\")).drop(\"cool\",\"funny\",\"useful\")\n",
    "df_user_2000 = df_user_2000.withColumn(\"friends_array\", split(col(\"friends\"), \", \")).withColumn(\"count_friends\", size(col(\"friends_array\")))\n",
    "vertices = df_user_2000.drop(*cols_to_drop)\n",
    "vertices = vertices.withColumnRenamed(\"count\", \"profile_count\")\n",
    "\n",
    "edges_friends = df_user_2000.select([\"user_id\",\"friends\"]) \n",
    "\n",
    "df_expand = edges_friends.withColumn(\"friends\", split(col(\"friends\"), \",\"))  # split the friends column by comma\n",
    "df_expand = df_expand.select(col(\"*\"), explode(col(\"friends\")).alias(\"friend\"))  # explode the friend column\n",
    "\n",
    "# remove leading and trailing whitespace from \"my_column\"\n",
    "df_expand = df_expand.withColumn(\"friend\", trim(df_expand[\"friend\"]))\n",
    "\n",
    "df_expand = df_expand.withColumn(\"relationship\", lit(\"friends\"))\n",
    "\n",
    "cols_to_drop = [\"friends\"]\n",
    "df_expand = df_expand.drop(*cols_to_drop)\n",
    "\n",
    "edges = df_expand"
   ]
  },
  {
   "cell_type": "code",
   "execution_count": 55,
   "id": "6184b3af-f9b1-4369-b6d4-6da3cb65583d",
   "metadata": {},
   "outputs": [],
   "source": [
    "vertices = vertices.drop(\"friends_array\")"
   ]
  },
  {
   "cell_type": "code",
   "execution_count": 57,
   "id": "79899bd5-967d-4de9-9377-05c136e9f36d",
   "metadata": {},
   "outputs": [],
   "source": [
    "vertices = vertices.drop(\"elite\")"
   ]
  },
  {
   "cell_type": "code",
   "execution_count": 60,
   "id": "144182d2-1504-4d7d-a3f0-d8e4518b029f",
   "metadata": {},
   "outputs": [],
   "source": [
    "from pyspark.sql.functions import year\n",
    "vertices = vertices.withColumn(\"since_rev\", col(\"yelping_since\").cast(\"date\")).drop(\"yelping_since\")\\\n",
    "                    .withColumn(\"since_year\", year(col(\"since_rev\"))).drop(\"since_rev\")"
   ]
  },
  {
   "cell_type": "code",
   "execution_count": 61,
   "id": "168753b0-0672-4010-a689-75e14dcb9bb8",
   "metadata": {},
   "outputs": [
    {
     "name": "stdout",
     "output_type": "stream",
     "text": [
      "+-------------+-------------+----+-------+------------+--------------------+----------------+--------+-------------+----------+\n",
      "|average_stars|profile_count|fans|   name|review_count|             user_id|profile_response|response|count_friends|since_year|\n",
      "+-------------+-------------+----+-------+------------+--------------------+----------------+--------+-------------+----------+\n",
      "|         2.95|          300|  35|  Robyn|         518|IpLRJY4CP3fXtlEd8...|             164|    2123|          605|      2009|\n",
      "|         4.17|          203| 804| Monica|        1282|RgDVC3ZUBqpEe6Y1k...|            9347|   33794|         4689|      2009|\n",
      "|          4.1|          353| 944|    Joi|        2009|0G-QF457q_0Z_jKqh...|           17136|   61571|         6234|      2008|\n",
      "|         3.67|          117|  11|Melissa|         159|8zkkuk8KOoNojZhTx...|              57|     384|          226|      2010|\n",
      "|         3.79|          197|  36|Matthew|         593|Q5jOFJYhIsN8ouJ1r...|             400|    2025|          151|      2006|\n",
      "+-------------+-------------+----+-------+------------+--------------------+----------------+--------+-------------+----------+\n",
      "only showing top 5 rows\n",
      "\n"
     ]
    }
   ],
   "source": [
    "vertices.show(5)"
   ]
  },
  {
   "cell_type": "code",
   "execution_count": 62,
   "id": "56e8163f-0dca-4767-8d2e-61809cf8e463",
   "metadata": {},
   "outputs": [
    {
     "data": {
      "text/plain": [
       "711209"
      ]
     },
     "execution_count": 62,
     "metadata": {},
     "output_type": "execute_result"
    }
   ],
   "source": [
    "edges.count()"
   ]
  },
  {
   "cell_type": "code",
   "execution_count": 63,
   "id": "6eeaa575-12f1-45a1-95a3-6f0e44b06d50",
   "metadata": {},
   "outputs": [
    {
     "name": "stdout",
     "output_type": "stream",
     "text": [
      "+--------------------+--------------------+------------+\n",
      "|             user_id|              friend|relationship|\n",
      "+--------------------+--------------------+------------+\n",
      "|IpLRJY4CP3fXtlEd8...|hdwDo7CLh9aN_9Pck...|     friends|\n",
      "|IpLRJY4CP3fXtlEd8...|ci-mepWGgsgGT3sFI...|     friends|\n",
      "|IpLRJY4CP3fXtlEd8...|aQcdY0ILoJ8K7_RqM...|     friends|\n",
      "|IpLRJY4CP3fXtlEd8...|s3AFxEpI_VV8-CUZf...|     friends|\n",
      "|IpLRJY4CP3fXtlEd8...|jUoT_ixOdsLUzaUYM...|     friends|\n",
      "+--------------------+--------------------+------------+\n",
      "only showing top 5 rows\n",
      "\n"
     ]
    }
   ],
   "source": [
    "edges.show(5)"
   ]
  },
  {
   "cell_type": "code",
   "execution_count": 64,
   "id": "63570c9c-8eb2-400b-bb5e-9efbf5380d12",
   "metadata": {},
   "outputs": [],
   "source": [
    "distinct_names = edges.select(\"friend\").distinct()"
   ]
  },
  {
   "cell_type": "code",
   "execution_count": 65,
   "id": "c02aafeb-5a48-4373-a190-1c88460e1f2f",
   "metadata": {},
   "outputs": [
    {
     "data": {
      "text/plain": [
       "341621"
      ]
     },
     "execution_count": 65,
     "metadata": {},
     "output_type": "execute_result"
    }
   ],
   "source": [
    "distinct_names.count()"
   ]
  },
  {
   "cell_type": "code",
   "execution_count": 66,
   "id": "c8ae7e3d-9d85-4481-a31f-0f88064d1a1f",
   "metadata": {},
   "outputs": [],
   "source": [
    "vertices_new = distinct_names.join(vertices, vertices.user_id == distinct_names.friend, \"left\")"
   ]
  },
  {
   "cell_type": "code",
   "execution_count": 73,
   "id": "d15b83cb-e115-49a9-b548-89b638dbc3ad",
   "metadata": {},
   "outputs": [],
   "source": [
    "vertices_new = vertices_new.withColumnRenamed(\"user_id\", \"id\")\n",
    "edges = edges.withColumnRenamed(\"user_id\", \"src\")\n",
    "edges = edges.withColumnRenamed(\"friend\", \"dst\")\n",
    "edges = edges.withColumnRenamed(\"relationship\", \"type\")\n",
    "g = GraphFrame(vertices_new, edges)"
   ]
  },
  {
   "cell_type": "markdown",
   "id": "15d5054e-87a6-4e46-bfa7-761240c806c4",
   "metadata": {
    "tags": []
   },
   "source": [
    "### Explore Graph"
   ]
  },
  {
   "cell_type": "code",
   "execution_count": 75,
   "id": "ca34c09f-dadc-4bd7-9d47-a89979ec2226",
   "metadata": {},
   "outputs": [
    {
     "name": "stdout",
     "output_type": "stream",
     "text": [
      "+--------------------+--------------------+-------+\n",
      "|                 src|                 dst|   type|\n",
      "+--------------------+--------------------+-------+\n",
      "|IpLRJY4CP3fXtlEd8...|hdwDo7CLh9aN_9Pck...|friends|\n",
      "|IpLRJY4CP3fXtlEd8...|ci-mepWGgsgGT3sFI...|friends|\n",
      "|IpLRJY4CP3fXtlEd8...|aQcdY0ILoJ8K7_RqM...|friends|\n",
      "|IpLRJY4CP3fXtlEd8...|s3AFxEpI_VV8-CUZf...|friends|\n",
      "|IpLRJY4CP3fXtlEd8...|jUoT_ixOdsLUzaUYM...|friends|\n",
      "+--------------------+--------------------+-------+\n",
      "only showing top 5 rows\n",
      "\n"
     ]
    }
   ],
   "source": [
    "## Check the number of edges\n",
    "g.edges.show(5)"
   ]
  },
  {
   "cell_type": "code",
   "execution_count": 76,
   "id": "7c2a3750-c0b4-43ac-991c-aee9642bae5e",
   "metadata": {},
   "outputs": [
    {
     "name": "stdout",
     "output_type": "stream",
     "text": [
      "+--------------------+------+\n",
      "|                  id|degree|\n",
      "+--------------------+------+\n",
      "|ZFxU8-XX9R2Oe1Ugt...|    15|\n",
      "|PSIVYM2UTI-cB6BgK...|     1|\n",
      "|YVkppuzTLw3zvVC_v...|    11|\n",
      "|O43tL4--1RlSe-0TD...|     2|\n",
      "|sZdy2AQD0gn7RMAJc...|     2|\n",
      "+--------------------+------+\n",
      "only showing top 5 rows\n",
      "\n"
     ]
    }
   ],
   "source": [
    "## Check the number of edges of each vertex\n",
    "g.degrees.show(5)"
   ]
  },
  {
   "cell_type": "code",
   "execution_count": 69,
   "id": "cb750142-a23e-4789-8f85-826830640ded",
   "metadata": {},
   "outputs": [
    {
     "name": "stdout",
     "output_type": "stream",
     "text": [
      "+--------------------+--------+\n",
      "|                  id|inDegree|\n",
      "+--------------------+--------+\n",
      "|ZFxU8-XX9R2Oe1Ugt...|      15|\n",
      "|PSIVYM2UTI-cB6BgK...|       1|\n",
      "|YVkppuzTLw3zvVC_v...|      11|\n",
      "|O43tL4--1RlSe-0TD...|       2|\n",
      "|sZdy2AQD0gn7RMAJc...|       2|\n",
      "+--------------------+--------+\n",
      "only showing top 5 rows\n",
      "\n"
     ]
    }
   ],
   "source": [
    "#The incoming degree of the vertices\n",
    "g.inDegrees.show(5)"
   ]
  },
  {
   "cell_type": "code",
   "execution_count": 70,
   "id": "d9f5309f-accb-4daf-8fee-f11cf0073412",
   "metadata": {},
   "outputs": [
    {
     "name": "stdout",
     "output_type": "stream",
     "text": [
      "+--------------------+---------+\n",
      "|                  id|outDegree|\n",
      "+--------------------+---------+\n",
      "|FlXBpK_YZxLo27jcM...|      604|\n",
      "|dioXbYFdMCyE7zCK9...|      116|\n",
      "|ET3TgSSQ3shm2mj5v...|      198|\n",
      "|s7cUp9ma9h9FYN-fa...|      284|\n",
      "|-3s52C4zL_DHRK0UL...|       18|\n",
      "+--------------------+---------+\n",
      "only showing top 5 rows\n",
      "\n"
     ]
    }
   ],
   "source": [
    "#The outgoing degree of the vertices\n",
    "g.outDegrees.show(5)"
   ]
  },
  {
   "cell_type": "markdown",
   "id": "e6b12320-9c5e-4e4a-b194-2117070d11d8",
   "metadata": {},
   "source": [
    "### Connected Components\n",
    "\n",
    "A connected component of a graph is a subgraph in which any two vertices are connected to each other by one or more edges, and which is connected to no additional vertices in the supergraph. Connected components detection can be interesting for clustering, but also to make your computations more efficient. \n",
    "\n",
    "Practically, GraphFrames requires you to set a directory where it can save checkpoints. Create such a folder in your working directory and drop the following line (where graphframes_cps is your new folder) in Jupyter to set the checkpoint directory.\n",
    "\n",
    "The number of connected components for directed and undirected graphs are different.\n",
    "\n",
    "Our mini-graph has two connected components, which are described for each vertex in the component column."
   ]
  },
  {
   "cell_type": "code",
   "execution_count": 77,
   "id": "5ef4e667-f2bc-4815-8fee-04d675866c52",
   "metadata": {},
   "outputs": [
    {
     "name": "stdout",
     "output_type": "stream",
     "text": [
      "+--------------------+-------------+-------------+----+--------+------------+--------------------+----------------+--------+-------------+----------+---------+\n",
      "|              friend|average_stars|profile_count|fans|    name|review_count|                  id|profile_response|response|count_friends|since_year|component|\n",
      "+--------------------+-------------+-------------+----+--------+------------+--------------------+----------------+--------+-------------+----------+---------+\n",
      "|dioXbYFdMCyE7zCK9...|         3.71|          133|  23| Michael|         242|dioXbYFdMCyE7zCK9...|             189|     820|          116|      2008|        0|\n",
      "|FlXBpK_YZxLo27jcM...|         4.02|          489| 102| Mallory|        1158|FlXBpK_YZxLo27jcM...|             731|    7274|          604|      2011|        0|\n",
      "|jxac2pQOPQvYY32Zk...|         3.92|          177|  10|Clarissa|         362|jxac2pQOPQvYY32Zk...|              42|     687|           53|      2008|        0|\n",
      "|CDxlgCoUoNRV3VMkY...|         3.64|          185|  33| Suzanne|         242|CDxlgCoUoNRV3VMkY...|             110|    1038|          188|      2009|        0|\n",
      "|pV-zk27LoaY3sQiSr...|         3.37|          174|  40|Dr Tim L|         430|pV-zk27LoaY3sQiSr...|             181|    1521|          189|      2009|        0|\n",
      "+--------------------+-------------+-------------+----+--------+------------+--------------------+----------------+--------+-------------+----------+---------+\n",
      "only showing top 5 rows\n",
      "\n"
     ]
    }
   ],
   "source": [
    "## Display all connected components\n",
    "sc = spark.sparkContext\n",
    "sc.setCheckpointDir('graphframes_cps')\n",
    "g.connectedComponents().show(5)"
   ]
  },
  {
   "cell_type": "code",
   "execution_count": 78,
   "id": "3636d004-c223-4335-a2b9-9722dd59c4f8",
   "metadata": {},
   "outputs": [],
   "source": [
    "result = g.stronglyConnectedComponents(maxIter=10)"
   ]
  },
  {
   "cell_type": "code",
   "execution_count": 81,
   "id": "c36b7536-7ad5-4b58-a856-78d9f2e982ba",
   "metadata": {},
   "outputs": [
    {
     "name": "stdout",
     "output_type": "stream",
     "text": [
      "+---+---------+\n",
      "| id|component|\n",
      "+---+---------+\n",
      "+---+---------+\n",
      "\n"
     ]
    }
   ],
   "source": [
    "result.select(\"id\", \"component\").filter(col(\"component\") != 0).show()"
   ]
  },
  {
   "cell_type": "markdown",
   "id": "11b9a2ab-6db4-4868-933a-6e2385dcbedc",
   "metadata": {},
   "source": [
    "### Filter Graph\n",
    "\n",
    "A GraphFrame itself can’t be filtered, but DataFrames deducted from a Graph can. Consequently, the filter-function (or any other function) can be used just as you would use it with DataFrames. Pay attention to the use of quotation marks in filter criteria."
   ]
  },
  {
   "cell_type": "code",
   "execution_count": 80,
   "id": "83669d6b-dbee-4c93-b8f2-7b8f9d35bce1",
   "metadata": {},
   "outputs": [
    {
     "name": "stdout",
     "output_type": "stream",
     "text": [
      "+--------------------+-------------+-------------+----+-------+------------+--------------------+----------------+--------+-------------+----------+\n",
      "|              friend|average_stars|profile_count|fans|   name|review_count|                  id|profile_response|response|count_friends|since_year|\n",
      "+--------------------+-------------+-------------+----+-------+------------+--------------------+----------------+--------+-------------+----------+\n",
      "|417svAEVHreK6c3SK...|         4.21|          125| 103|   Bill|         620|417svAEVHreK6c3SK...|             976|   13496|         1643|      2015|\n",
      "|pou3BbKsIozfH50rx...|         4.28|          898| 914|  Brett|        2812|pou3BbKsIozfH50rx...|            8839|   46463|         4024|      2012|\n",
      "|cCeCQxErE9ToaQQBE...|         3.97|          212| 181|Abigail|         595|cCeCQxErE9ToaQQBE...|             777|    5222|         1065|      2009|\n",
      "|BmVwbsL8l0imz4slo...|         4.39|          187| 713| Morris|         261|BmVwbsL8l0imz4slo...|           10071|   15651|         3572|      2012|\n",
      "|5tXRxr4T24Awl7vjy...|         3.97|          227| 543| Morgan|         741|5tXRxr4T24Awl7vjy...|            7722|   21370|         3930|      2010|\n",
      "+--------------------+-------------+-------------+----+-------+------------+--------------------+----------------+--------+-------------+----------+\n",
      "only showing top 5 rows\n",
      "\n"
     ]
    }
   ],
   "source": [
    "## Filter vertices to show people older than 30 yrs\n",
    "g.vertices.filter(\"count_friends > 1000\").show(5)"
   ]
  },
  {
   "cell_type": "code",
   "execution_count": 82,
   "id": "332446d0-4c11-48bf-9ad9-92ec7c004167",
   "metadata": {},
   "outputs": [
    {
     "name": "stdout",
     "output_type": "stream",
     "text": [
      "+--------------------+--------+\n",
      "|                  id|inDegree|\n",
      "+--------------------+--------+\n",
      "|ET8n-r7glWYqZhuR6...|     669|\n",
      "|Oi1qbcz2m2SnwUezt...|     650|\n",
      "|BmVwbsL8l0imz4slo...|     351|\n",
      "|eJnwyot0rLyWN84Dw...|     349|\n",
      "|dqucQwA-CHWhUczwq...|     346|\n",
      "+--------------------+--------+\n",
      "only showing top 5 rows\n",
      "\n"
     ]
    }
   ],
   "source": [
    "## Filter and sort vertices with degree >=2\n",
    "g.inDegrees.filter(\"inDegree >= 2\").sort(\"inDegree\", ascending=False).show(5)"
   ]
  },
  {
   "cell_type": "markdown",
   "id": "92c06b04-cf37-47b9-bf48-5073a039fa21",
   "metadata": {},
   "source": [
    "### Motif Finding\n",
    "\n",
    "Finding motifs helps to execute queries to discover structural patterns in graphs. \n",
    "\n",
    "The following example will search for pairs of vertices a,b connected by edge e and pairs of vertices b,c connected by edge e2. It will return a DataFrame of all such structures in the graph, with columns for each of the named elements (vertices or edges) in the motif."
   ]
  },
  {
   "cell_type": "code",
   "execution_count": 83,
   "id": "f9dec201-dd97-458d-a223-be6604f5e637",
   "metadata": {
    "scrolled": true
   },
   "outputs": [
    {
     "name": "stdout",
     "output_type": "stream",
     "text": [
      "+-----------------------------------------------------------------------------------------------------+---------------------------------------------------------+-----------------------------------------------------------------------------------------------------+---------------------------------------------------------+\n",
      "|a                                                                                                    |e                                                        |b                                                                                                    |e2                                                       |\n",
      "+-----------------------------------------------------------------------------------------------------+---------------------------------------------------------+-----------------------------------------------------------------------------------------------------+---------------------------------------------------------+\n",
      "|{FlXBpK_YZxLo27jcMdII1w, 4.02, 489, 102, Mallory, 1158, FlXBpK_YZxLo27jcMdII1w, 731, 7274, 604, 2011}|{FlXBpK_YZxLo27jcMdII1w, CDxlgCoUoNRV3VMkYZrUuQ, friends}|{CDxlgCoUoNRV3VMkYZrUuQ, 3.64, 185, 33, Suzanne, 242, CDxlgCoUoNRV3VMkYZrUuQ, 110, 1038, 188, 2009}  |{CDxlgCoUoNRV3VMkYZrUuQ, FlXBpK_YZxLo27jcMdII1w, friends}|\n",
      "|{CDxlgCoUoNRV3VMkYZrUuQ, 3.64, 185, 33, Suzanne, 242, CDxlgCoUoNRV3VMkYZrUuQ, 110, 1038, 188, 2009}  |{CDxlgCoUoNRV3VMkYZrUuQ, FlXBpK_YZxLo27jcMdII1w, friends}|{FlXBpK_YZxLo27jcMdII1w, 4.02, 489, 102, Mallory, 1158, FlXBpK_YZxLo27jcMdII1w, 731, 7274, 604, 2011}|{FlXBpK_YZxLo27jcMdII1w, CDxlgCoUoNRV3VMkYZrUuQ, friends}|\n",
      "|{Mc4C7fVY0sEcD-U5eOA2Og, 3.79, 131, 48, Steven, 479, Mc4C7fVY0sEcD-U5eOA2Og, 537, 2668, 453, 2011}   |{Mc4C7fVY0sEcD-U5eOA2Og, 417svAEVHreK6c3SK4M8Tw, friends}|{417svAEVHreK6c3SK4M8Tw, 4.21, 125, 103, Bill, 620, 417svAEVHreK6c3SK4M8Tw, 976, 13496, 1643, 2015}  |{417svAEVHreK6c3SK4M8Tw, Mc4C7fVY0sEcD-U5eOA2Og, friends}|\n",
      "|{zTwwciNRMedBvUS3-_8h6g, 3.49, 183, 13, Rich, 269, zTwwciNRMedBvUS3-_8h6g, 69, 772, 162, 2010}       |{zTwwciNRMedBvUS3-_8h6g, FlXBpK_YZxLo27jcMdII1w, friends}|{FlXBpK_YZxLo27jcMdII1w, 4.02, 489, 102, Mallory, 1158, FlXBpK_YZxLo27jcMdII1w, 731, 7274, 604, 2011}|{FlXBpK_YZxLo27jcMdII1w, zTwwciNRMedBvUS3-_8h6g, friends}|\n",
      "|{hKBQ-PFlcB-t5FK3HUxoyQ, 4.06, 295, 32, Wanda, 677, hKBQ-PFlcB-t5FK3HUxoyQ, 299, 1534, 256, 2014}    |{hKBQ-PFlcB-t5FK3HUxoyQ, 417svAEVHreK6c3SK4M8Tw, friends}|{417svAEVHreK6c3SK4M8Tw, 4.21, 125, 103, Bill, 620, 417svAEVHreK6c3SK4M8Tw, 976, 13496, 1643, 2015}  |{417svAEVHreK6c3SK4M8Tw, hKBQ-PFlcB-t5FK3HUxoyQ, friends}|\n",
      "+-----------------------------------------------------------------------------------------------------+---------------------------------------------------------+-----------------------------------------------------------------------------------------------------+---------------------------------------------------------+\n",
      "only showing top 5 rows\n",
      "\n"
     ]
    }
   ],
   "source": [
    "g.find(\"(a)-[e]->(b); (b)-[e2]->(a)\").show(5,truncate = False)"
   ]
  },
  {
   "cell_type": "markdown",
   "id": "3f79ecf0-8f2f-488a-8f09-7f8e3b3fb950",
   "metadata": {},
   "source": [
    "### TriangleCount \n",
    "\n",
    "TriangleCount counts the number of triangles passing through each vertex in this graph. A triangle can be defined as a group of three vertices that is interrelated, i.e. a has an edge to b, b has an edge to c, and c has an edge to a. \n",
    "\n",
    "Triangles are used for various tasks for real‐life networks, including community discovery, link prediction, and spam filtering.\n",
    "\n",
    "<img width=\"30%\" src=\"https://miro.medium.com/max/791/0*MGZV-XXQl9YN_fwD.png\"/>"
   ]
  },
  {
   "cell_type": "code",
   "execution_count": 86,
   "id": "44ba86e0-d915-4265-9c3e-e196e0754879",
   "metadata": {},
   "outputs": [
    {
     "name": "stdout",
     "output_type": "stream",
     "text": [
      "+-----+--------------------+-------------+-------------+----+--------+------------+--------------------+----------------+--------+-------------+----------+\n",
      "|count|              friend|average_stars|profile_count|fans|    name|review_count|                  id|profile_response|response|count_friends|since_year|\n",
      "+-----+--------------------+-------------+-------------+----+--------+------------+--------------------+----------------+--------+-------------+----------+\n",
      "|  582|dioXbYFdMCyE7zCK9...|         3.71|          133|  23| Michael|         242|dioXbYFdMCyE7zCK9...|             189|     820|          116|      2008|\n",
      "| 1562|FlXBpK_YZxLo27jcM...|         4.02|          489| 102| Mallory|        1158|FlXBpK_YZxLo27jcM...|             731|    7274|          604|      2011|\n",
      "|   16|jxac2pQOPQvYY32Zk...|         3.92|          177|  10|Clarissa|         362|jxac2pQOPQvYY32Zk...|              42|     687|           53|      2008|\n",
      "|  270|CDxlgCoUoNRV3VMkY...|         3.64|          185|  33| Suzanne|         242|CDxlgCoUoNRV3VMkY...|             110|    1038|          188|      2009|\n",
      "|   75|pV-zk27LoaY3sQiSr...|         3.37|          174|  40|Dr Tim L|         430|pV-zk27LoaY3sQiSr...|             181|    1521|          189|      2009|\n",
      "+-----+--------------------+-------------+-------------+----+--------+------------+--------------------+----------------+--------+-------------+----------+\n",
      "only showing top 5 rows\n",
      "\n"
     ]
    }
   ],
   "source": [
    "g.triangleCount().filter(col(\"count\")!= 0).show(5)"
   ]
  },
  {
   "cell_type": "markdown",
   "id": "a6653be7-e299-40f0-bf99-2ebc490488de",
   "metadata": {},
   "source": [
    "### PageRank\n",
    "\n",
    "Identify important vertices in a graph based on connections."
   ]
  },
  {
   "cell_type": "code",
   "execution_count": 87,
   "id": "2c546247-0987-4a0e-8e42-f675db646992",
   "metadata": {},
   "outputs": [],
   "source": [
    "pr = g.pageRank(resetProbability=0.15, tol=0.01)## look at the pagerank score for every vertex\n",
    "\n",
    "S = pr.vertices.orderBy('pagerank',ascending=False)"
   ]
  },
  {
   "cell_type": "code",
   "execution_count": 131,
   "id": "0755e6bd-a9d6-43c1-9bc4-da90cc00480e",
   "metadata": {},
   "outputs": [
    {
     "name": "stdout",
     "output_type": "stream",
     "text": [
      "+---------+----------+-------------+--------+-------------+-------------+------------------+\n",
      "|     name|since_year|average_stars|response|profile_count|count_friends|          pagerank|\n",
      "+---------+----------+-------------+--------+-------------+-------------+------------------+\n",
      "| Michelle|      2008|         4.05|   55120|         1144|         5958|19.833261744321955|\n",
      "|   Steven|      2010|         3.62|   66519|          477|        10072|17.922276178908504|\n",
      "|   Morris|      2012|         4.39|   15651|          187|         3572|10.267693130330548|\n",
      "|      Dee|      2010|         4.13|    9444|          361|         1448| 9.381879740046559|\n",
      "|    Bruce|      2008|         3.77|    6307|          297|         1546| 9.227369028077154|\n",
      "| Kimberly|      2013|         3.52|    1385|          183|         1063| 8.748330850125807|\n",
      "|     Chad|      2015|          3.7|   34449|          137|         4732| 8.302947040298289|\n",
      "|Gabriella|      2016|         4.33|    3895|          119|         2048| 8.032567652224675|\n",
      "|    Karen|      2008|         3.69|   31912|         1704|         3708|  8.03256366052581|\n",
      "|   Alisha|      2016|         3.97|   11278|          224|         2617| 7.641622809176325|\n",
      "+---------+----------+-------------+--------+-------------+-------------+------------------+\n",
      "only showing top 10 rows\n",
      "\n"
     ]
    }
   ],
   "source": [
    "A = S.select([\"name\",\"since_year\",\"average_stars\",\"response\",\"profile_count\",\"count_friends\", \"pagerank\"])\n",
    "A.show(10)"
   ]
  },
  {
   "cell_type": "code",
   "execution_count": 93,
   "id": "92c1fa1d-439e-4d09-b331-91ceea8bf70e",
   "metadata": {},
   "outputs": [
    {
     "name": "stdout",
     "output_type": "stream",
     "text": [
      "+--------------------+--------------------+-------+--------------------+\n",
      "|                 src|                 dst|   type|              weight|\n",
      "+--------------------+--------------------+-------+--------------------+\n",
      "|UlWDGR0QrBbdFsVY6...|-3s52C4zL_DHRK0UL...|friends|  0.0053475935828877|\n",
      "|djxnI8Ux8ZYQJhiOQ...|-3s52C4zL_DHRK0UL...|friends|0.009345794392523364|\n",
      "|h1KzT38UnfzR7maSi...|-3s52C4zL_DHRK0UL...|friends|  0.3333333333333333|\n",
      "|BmVwbsL8l0imz4slo...|-7qUbOVWJp2NT3f_T...|friends|0.002849002849002849|\n",
      "|2HA_Ub0s2qACtlOkr...|-7qUbOVWJp2NT3f_T...|friends|               0.125|\n",
      "|6ObFF8-uKnOAlXuSH...|-7qUbOVWJp2NT3f_T...|friends|0.007874015748031496|\n",
      "|_6j6uCisr8DNewdBl...|-7qUbOVWJp2NT3f_T...|friends| 0.02127659574468085|\n",
      "|Js1FsZ6oP_9tO5tbJ...|-7qUbOVWJp2NT3f_T...|friends|0.043478260869565216|\n",
      "|d6zIVWiJyPB6PZuAx...|-7qUbOVWJp2NT3f_T...|friends|0.034482758620689655|\n",
      "|D2IUOetOVfjAkmohD...|-7qUbOVWJp2NT3f_T...|friends| 0.09090909090909091|\n",
      "+--------------------+--------------------+-------+--------------------+\n",
      "only showing top 10 rows\n",
      "\n"
     ]
    }
   ],
   "source": [
    "## look at the weight of every edge\n",
    "pr.edges.show(10)"
   ]
  },
  {
   "cell_type": "markdown",
   "id": "c42f15d9-5c27-4c4b-b19d-6c02c5d14407",
   "metadata": {},
   "source": [
    "### Degree Centrality\n",
    "\n",
    "Identify important vertices in a graph based on connections."
   ]
  },
  {
   "cell_type": "code",
   "execution_count": 116,
   "id": "ceb8d874-026d-45fb-a83a-235d747b12a9",
   "metadata": {},
   "outputs": [],
   "source": [
    "from pyspark.sql.functions import desc\n",
    "\n",
    "# Compute degree centrality\n",
    "degree = g.degrees\n",
    "degree = degree.selectExpr(\"id\", \"degree AS degree_centrality\")\n",
    "degree = degree.sort(desc(\"degree_centrality\"))"
   ]
  },
  {
   "cell_type": "code",
   "execution_count": 117,
   "id": "ff547c0d-2c14-49e3-a7c0-74d10f31ef96",
   "metadata": {},
   "outputs": [],
   "source": [
    "joined_degree = degree.join(vertices, vertices.user_id == degree.id, \"left\")"
   ]
  },
  {
   "cell_type": "code",
   "execution_count": 118,
   "id": "d7bfceca-5712-44b4-a270-2146754a5c96",
   "metadata": {},
   "outputs": [
    {
     "name": "stdout",
     "output_type": "stream",
     "text": [
      "+--------+----------+-------------+--------+----+-------------+-----------------+\n",
      "|    name|since_year|average_stars|response|fans|count_friends|degree_centrality|\n",
      "+--------+----------+-------------+--------+----+-------------+-----------------+\n",
      "|  Steven|      2010|         3.62|   66519| 739|        10072|            10722|\n",
      "|    Abby|      2008|         4.15|   68127|1806|         8858|             8965|\n",
      "|    Niki|      2014|         4.59|   22375|1746|         6896|             7075|\n",
      "|Brittany|      2011|         4.33|   38591|2086|         6660|             6854|\n",
      "|Michelle|      2008|         4.05|   55120|1353|         5958|             6627|\n",
      "| Michael|      2010|         4.43|   49580|1251|         6481|             6595|\n",
      "|     Joi|      2008|          4.1|   61571| 944|         6234|             6386|\n",
      "|    John|      2008|         3.75|   69937|1309|         6232|             6349|\n",
      "| Christy|      2011|         4.19|   96429| 740|         5522|             5716|\n",
      "|    Nate|      2011|          4.2|   71063|1295|         5607|             5675|\n",
      "+--------+----------+-------------+--------+----+-------------+-----------------+\n",
      "only showing top 10 rows\n",
      "\n"
     ]
    }
   ],
   "source": [
    "A = joined_degree.select([\"name\",\"since_year\",\"average_stars\",\"response\",\"fans\",\"count_friends\", \"degree_centrality\"])\n",
    "A.show(10)"
   ]
  },
  {
   "cell_type": "markdown",
   "id": "9406094d-7446-4c99-b468-79de86e517f0",
   "metadata": {},
   "source": [
    "## Label Propagation\n",
    "\n",
    "Run static Label Propagation Algorithm for detecting communities in networks."
   ]
  },
  {
   "cell_type": "code",
   "execution_count": 104,
   "id": "7f7b2474-c6ef-4d4b-bd40-c9c8d6385a9a",
   "metadata": {},
   "outputs": [
    {
     "name": "stdout",
     "output_type": "stream",
     "text": [
      "+--------------------+-------------+-------------+----+--------+------------+--------------------+----------------+--------+-------------+----------+-------------+\n",
      "|              friend|average_stars|profile_count|fans|    name|review_count|                  id|profile_response|response|count_friends|since_year|        label|\n",
      "+--------------------+-------------+-------------+----+--------+------------+--------------------+----------------+--------+-------------+----------+-------------+\n",
      "|dioXbYFdMCyE7zCK9...|         3.71|          133|  23| Michael|         242|dioXbYFdMCyE7zCK9...|             189|     820|          116|      2008|1030792151045|\n",
      "|FlXBpK_YZxLo27jcM...|         4.02|          489| 102| Mallory|        1158|FlXBpK_YZxLo27jcM...|             731|    7274|          604|      2011|1030792151045|\n",
      "|jxac2pQOPQvYY32Zk...|         3.92|          177|  10|Clarissa|         362|jxac2pQOPQvYY32Zk...|              42|     687|           53|      2008|1030792151045|\n",
      "|CDxlgCoUoNRV3VMkY...|         3.64|          185|  33| Suzanne|         242|CDxlgCoUoNRV3VMkY...|             110|    1038|          188|      2009|1030792151045|\n",
      "|pV-zk27LoaY3sQiSr...|         3.37|          174|  40|Dr Tim L|         430|pV-zk27LoaY3sQiSr...|             181|    1521|          189|      2009|1047972020234|\n",
      "+--------------------+-------------+-------------+----+--------+------------+--------------------+----------------+--------+-------------+----------+-------------+\n",
      "only showing top 5 rows\n",
      "\n"
     ]
    }
   ],
   "source": [
    "result = g.labelPropagation(maxIter=5)\n",
    "result.show(5)"
   ]
  },
  {
   "cell_type": "code",
   "execution_count": 96,
   "id": "d568214e-4a2a-414c-88c5-0a8d59e6def9",
   "metadata": {},
   "outputs": [],
   "source": [
    "label_counts = result.groupby(col(\"label\")).count()"
   ]
  },
  {
   "cell_type": "code",
   "execution_count": 97,
   "id": "0174d0f8-382b-4784-ac65-2a2916b2db5b",
   "metadata": {},
   "outputs": [
    {
     "name": "stdout",
     "output_type": "stream",
     "text": [
      "+-------------+-----+\n",
      "|        label|count|\n",
      "+-------------+-----+\n",
      "| 970662608897|    2|\n",
      "| 721554505733|   86|\n",
      "|1030792151045|  708|\n",
      "| 936302870539|    5|\n",
      "|1022202216450|   46|\n",
      "| 953482739716|  182|\n",
      "| 472446402566|  133|\n",
      "| 609885356039|    7|\n",
      "| 326417514504|   27|\n",
      "|1005022347270|   20|\n",
      "| 704374636547|   10|\n",
      "| 944892805126|  328|\n",
      "|1047972020234|  111|\n",
      "| 635655159814|   22|\n",
      "| 558345748482|    2|\n",
      "|1039382085644|  197|\n",
      "|1709396983817|   48|\n",
      "| 730144440327|    1|\n",
      "| 627065225216|    1|\n",
      "| 601295421445|    2|\n",
      "+-------------+-----+\n",
      "\n"
     ]
    }
   ],
   "source": [
    "label_counts.show()"
   ]
  },
  {
   "cell_type": "code",
   "execution_count": 99,
   "id": "08eae3c3-a181-461f-bdd3-ad2662f8dd02",
   "metadata": {},
   "outputs": [
    {
     "data": {
      "text/plain": [
       "341621"
      ]
     },
     "execution_count": 99,
     "metadata": {},
     "output_type": "execute_result"
    }
   ],
   "source": [
    "g.vertices.count()"
   ]
  },
  {
   "cell_type": "code",
   "execution_count": 105,
   "id": "c48dd2a0-3e49-438c-b750-73731f76d698",
   "metadata": {},
   "outputs": [
    {
     "data": {
      "text/plain": [
       "1938"
      ]
     },
     "execution_count": 105,
     "metadata": {},
     "output_type": "execute_result"
    }
   ],
   "source": [
    "result.filter(col())"
   ]
  },
  {
   "cell_type": "code",
   "execution_count": 103,
   "id": "9a1e4942-001d-4a1a-bead-cce1e6b5f274",
   "metadata": {},
   "outputs": [
    {
     "data": {
      "text/plain": [
       "1938"
      ]
     },
     "execution_count": 103,
     "metadata": {},
     "output_type": "execute_result"
    }
   ],
   "source": [
    "result.count()"
   ]
  }
 ],
 "metadata": {
  "kernelspec": {
   "display_name": "Python 3 (ipykernel)",
   "language": "python",
   "name": "python3"
  },
  "language_info": {
   "codemirror_mode": {
    "name": "ipython",
    "version": 3
   },
   "file_extension": ".py",
   "mimetype": "text/x-python",
   "name": "python",
   "nbconvert_exporter": "python",
   "pygments_lexer": "ipython3",
   "version": "3.10.8"
  }
 },
 "nbformat": 4,
 "nbformat_minor": 5
}
